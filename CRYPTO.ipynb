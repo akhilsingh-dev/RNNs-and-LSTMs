{
 "cells": [
  {
   "cell_type": "code",
   "execution_count": 1,
   "metadata": {},
   "outputs": [
    {
     "name": "stdout",
     "output_type": "stream",
     "text": [
      "            BTC-USD_close  vol_BTC-USD  LTC-USD_close  vol_LTC-USD  \\\n",
      "time                                                                 \n",
      "1528968660    6489.549805     0.587100      96.580002     9.647200   \n",
      "1528968720    6487.379883     7.706374      96.660004   314.387024   \n",
      "1528968780    6479.410156     3.088252      96.570000    77.129799   \n",
      "1528968840    6479.410156     1.404100      96.500000     7.216067   \n",
      "1528968900    6479.979980     0.753000      96.389999   524.539978   \n",
      "\n",
      "            ETH-USD_close  vol_ETH-USD  BCH-USD_close  vol_BCH-USD  \n",
      "time                                                                \n",
      "1528968660            NaN          NaN     871.719971     5.675361  \n",
      "1528968720      486.01001    26.019083     870.859985    26.856577  \n",
      "1528968780      486.00000     8.449400     870.099976     1.124300  \n",
      "1528968840      485.75000    26.994646     870.789978     1.749862  \n",
      "1528968900      486.00000    77.355759     870.000000     1.680500  \n"
     ]
    }
   ],
   "source": [
    "import tensorflow as tf\n",
    "import pandas as pd\n",
    "import numpy as np\n",
    "import os\n",
    "\n",
    "from sklearn import preprocessing\n",
    "\n",
    "SEQLEN = 60\n",
    "FUTURE_PREDICT = 3\n",
    "RATIO = \"LTC-USD\"\n",
    "\n",
    "\n",
    "main_df = pd.DataFrame()\n",
    "\n",
    "\n",
    "ratios=[\"BTC-USD\",\"LTC-USD\",\"ETH-USD\",\"BCH-USD\"]\n",
    "for ratio in ratios:\n",
    "    dataset=f\"crypto_data/{ratio}.csv\"\n",
    "    df = pd.read_csv(dataset,names=[\"time\",\"low\",\"high\",\"open\",\"close\",\"volume\"])\n",
    "    \n",
    "    df.rename(columns={\"close\": f\"{ratio}_close\", \"volume\": f\"vol_{ratio}\"},inplace=True)\n",
    "\n",
    "    df.set_index(\"time\",inplace=True)\n",
    "    df = df[[f\"{ratio}_close\", f\"vol_{ratio}\"]]\n",
    "    \n",
    "    \n",
    "    if len(main_df)==0:\n",
    "        main_df = df\n",
    "    else:\n",
    "        main_df=main_df.join(df)\n",
    "\n",
    "print(main_df.head())"
   ]
  },
  {
   "cell_type": "code",
   "execution_count": 2,
   "metadata": {},
   "outputs": [],
   "source": [
    "def classify(currPrice,futPrice):\n",
    "    if float(futPrice) > float(currPrice):\n",
    "        return 1\n",
    "    else:\n",
    "        return 0\n",
    "    \n",
    "    "
   ]
  },
  {
   "cell_type": "code",
   "execution_count": 3,
   "metadata": {},
   "outputs": [
    {
     "name": "stdout",
     "output_type": "stream",
     "text": [
      "            LTC-USD_close     future\n",
      "time                                \n",
      "1528968660      96.580002  96.500000\n",
      "1528968720      96.660004  96.389999\n",
      "1528968780      96.570000  96.519997\n",
      "1528968840      96.500000  96.440002\n",
      "1528968900      96.389999  96.470001\n"
     ]
    }
   ],
   "source": [
    "main_df['future'] = main_df[f\"{RATIO}_close\"].shift(-FUTURE_PREDICT)\n",
    "print(main_df[[f\"{RATIO}_close\",\"future\"]].head())"
   ]
  },
  {
   "cell_type": "code",
   "execution_count": 4,
   "metadata": {},
   "outputs": [],
   "source": [
    "main_df[\"target\"] = list(map(classify,main_df[f\"{RATIO}_close\"],main_df[\"future\"]))"
   ]
  },
  {
   "cell_type": "code",
   "execution_count": 5,
   "metadata": {},
   "outputs": [
    {
     "name": "stdout",
     "output_type": "stream",
     "text": [
      "            LTC-USD_close     future  target\n",
      "time                                        \n",
      "1528968660      96.580002  96.500000       0\n",
      "1528968720      96.660004  96.389999       0\n",
      "1528968780      96.570000  96.519997       0\n",
      "1528968840      96.500000  96.440002       0\n",
      "1528968900      96.389999  96.470001       1\n",
      "1528968960      96.519997  96.400002       0\n",
      "1528969020      96.440002  96.400002       0\n",
      "1528969080      96.470001  96.400002       0\n",
      "1528969140      96.400002  96.400002       0\n",
      "1528969200      96.400002  96.400002       0\n"
     ]
    }
   ],
   "source": [
    "print(main_df[[f\"{RATIO}_close\",\"future\",\"target\"]].head(10))"
   ]
  },
  {
   "cell_type": "code",
   "execution_count": 6,
   "metadata": {},
   "outputs": [
    {
     "name": "stdout",
     "output_type": "stream",
     "text": [
      "            BTC-USD_close  vol_BTC-USD  LTC-USD_close  vol_LTC-USD  \\\n",
      "time                                                                 \n",
      "1528968720    6487.379883     7.706374      96.660004   314.387024   \n",
      "1528968780    6479.410156     3.088252      96.570000    77.129799   \n",
      "1528968840    6479.410156     1.404100      96.500000     7.216067   \n",
      "1528968900    6479.979980     0.753000      96.389999   524.539978   \n",
      "1528968960    6480.000000     1.490900      96.519997    16.991997   \n",
      "\n",
      "            ETH-USD_close  vol_ETH-USD  BCH-USD_close  vol_BCH-USD     future  \\\n",
      "time                                                                            \n",
      "1528968720      486.01001    26.019083     870.859985    26.856577  96.389999   \n",
      "1528968780      486.00000     8.449400     870.099976     1.124300  96.519997   \n",
      "1528968840      485.75000    26.994646     870.789978     1.749862  96.440002   \n",
      "1528968900      486.00000    77.355759     870.000000     1.680500  96.470001   \n",
      "1528968960      486.00000     7.503300     869.989990     1.669014  96.400002   \n",
      "\n",
      "            target  \n",
      "time                \n",
      "1528968720       0  \n",
      "1528968780       0  \n",
      "1528968840       0  \n",
      "1528968900       1  \n",
      "1528968960       0  \n"
     ]
    }
   ],
   "source": [
    "print(main_df[1:].head())"
   ]
  },
  {
   "cell_type": "code",
   "execution_count": 7,
   "metadata": {},
   "outputs": [],
   "source": [
    "times = sorted(main_df.index.values)"
   ]
  },
  {
   "cell_type": "code",
   "execution_count": 8,
   "metadata": {},
   "outputs": [
    {
     "name": "stdout",
     "output_type": "stream",
     "text": [
      "1534922100\n"
     ]
    }
   ],
   "source": [
    "last_5pct = times[-int(0.05*len(times))]\n",
    "print(last_5pct)"
   ]
  },
  {
   "cell_type": "code",
   "execution_count": 9,
   "metadata": {},
   "outputs": [],
   "source": [
    "val_main_df = main_df[(main_df.index >= last_5pct)]\n",
    "main_df = main_df[(main_df.index < last_5pct)]\n"
   ]
  },
  {
   "cell_type": "code",
   "execution_count": 23,
   "metadata": {},
   "outputs": [],
   "source": [
    "from collections import deque\n",
    "import random\n",
    "\n",
    "\n",
    "def preprocessDf(df):\n",
    "    df = df.drop(\"future\",1)\n",
    "    for col in df.columns:\n",
    "        if col != \"target\":\n",
    "            df[col] = df[col].pct_change()\n",
    "            df.dropna(inplace=True)\n",
    "            df[col] = preprocessing.scale(df[col].values)\n",
    "    df.dropna(inplace=True)\n",
    "    seq_data=[]\n",
    "    prev_days = deque(maxlen=SEQLEN)\n",
    "    for i in df.values:\n",
    "        prev_days.append([n for n in i[:-1]])\n",
    "        if len(prev_days) == SEQLEN:\n",
    "            seq_data.append([np.array(prev_days),i[-1]])\n",
    "            \n",
    "    random.shuffle(seq_data)\n",
    "    buys=[]\n",
    "    sells=[]\n",
    "    for seq,target in seq_data:\n",
    "        if target==0:\n",
    "            sells.append([seq,target])\n",
    "        elif target==1:\n",
    "            buys.append([seq,target])\n",
    "     \n",
    "    random.shuffle(buys)\n",
    "    random.shuffle(sells)\n",
    "    \n",
    "    lwr = min(len(buys),len(sells))\n",
    "    \n",
    "    buys = buys[:lwr]\n",
    "    sells = sells[:lwr]\n",
    "    seq_data = buys + sells\n",
    "    random.shuffle(seq_data)\n",
    "    X=[]\n",
    "    y=[]\n",
    "    \n",
    "    for seq,target in seq_data:\n",
    "        X.append(seq)\n",
    "        y.append(target)\n",
    "    \n",
    "    return np.array(X),y\n",
    "\n",
    "\n",
    "\n",
    "xTrain,yTrain = preprocessDf(main_df)\n",
    "xTest,yTest = preprocessDf(val_main_df)\n",
    "\n",
    "\n",
    "\n"
   ]
  },
  {
   "cell_type": "code",
   "execution_count": 25,
   "metadata": {},
   "outputs": [
    {
     "name": "stdout",
     "output_type": "stream",
     "text": [
      "(69188, 60, 8)\n",
      "(3062, 60, 8)\n"
     ]
    }
   ],
   "source": [
    "print(xTrain.shape)\n",
    "print(xTest.shape)"
   ]
  },
  {
   "cell_type": "code",
   "execution_count": 33,
   "metadata": {},
   "outputs": [
    {
     "name": "stdout",
     "output_type": "stream",
     "text": [
      "Train on 69188 samples, validate on 3062 samples\n",
      "Epoch 1/10\n",
      "69188/69188 [==============================] - 45s 651us/sample - loss: 0.7276 - acc: 0.5022 - val_loss: 0.6927 - val_acc: 0.5333\n",
      "Epoch 2/10\n",
      "69188/69188 [==============================] - 39s 565us/sample - loss: 0.6882 - acc: 0.5442 - val_loss: 0.8163 - val_acc: 0.5003\n",
      "Epoch 3/10\n",
      "69188/69188 [==============================] - 39s 567us/sample - loss: 0.6836 - acc: 0.5607 - val_loss: 0.6801 - val_acc: 0.5647\n",
      "Epoch 4/10\n",
      "69188/69188 [==============================] - 39s 564us/sample - loss: 0.6816 - acc: 0.5629 - val_loss: 0.6845 - val_acc: 0.5728\n",
      "Epoch 5/10\n",
      "69188/69188 [==============================] - 39s 570us/sample - loss: 0.6811 - acc: 0.5667 - val_loss: 0.6767 - val_acc: 0.5650\n",
      "Epoch 6/10\n",
      "69188/69188 [==============================] - 39s 563us/sample - loss: 0.6800 - acc: 0.5683 - val_loss: 0.6795 - val_acc: 0.5722\n",
      "Epoch 7/10\n",
      "69188/69188 [==============================] - 39s 567us/sample - loss: 0.6791 - acc: 0.5707 - val_loss: 0.6784 - val_acc: 0.5647\n",
      "Epoch 8/10\n",
      "69188/69188 [==============================] - 40s 573us/sample - loss: 0.6764 - acc: 0.5780 - val_loss: 0.6842 - val_acc: 0.5594\n",
      "Epoch 9/10\n",
      "69188/69188 [==============================] - 39s 569us/sample - loss: 0.6757 - acc: 0.5785 - val_loss: 0.6793 - val_acc: 0.5627\n",
      "Epoch 10/10\n",
      "69188/69188 [==============================] - 40s 571us/sample - loss: 0.6730 - acc: 0.5824 - val_loss: 0.7018 - val_acc: 0.5359\n"
     ]
    }
   ],
   "source": [
    "import uuid\n",
    "import time\n",
    "from tensorflow.keras import Sequential\n",
    "from tensorflow.keras.layers import Dropout,CuDNNLSTM,Dense,BatchNormalization\n",
    "from tensorflow.keras.callbacks import TensorBoard,ModelCheckpoint\n",
    "\n",
    "\n",
    "\n",
    "EPOCHS=10\n",
    "BATCH=64\n",
    "\n",
    "NAME=f\"{SEQLEN}-Day-{RATIO}-Predictor-{int(time.time())}\"\n",
    "\n",
    "model = Sequential()\n",
    "model.add(CuDNNLSTM(128,input_shape=(xTrain.shape[1:]),return_sequences=True))\n",
    "model.add(Dropout(0.1))\n",
    "model.add(BatchNormalization())\n",
    "\n",
    "model.add(CuDNNLSTM(128,input_shape=(xTrain.shape[1:]),return_sequences=True))\n",
    "model.add(Dropout(0.1))\n",
    "model.add(BatchNormalization())\n",
    "\n",
    "model.add(CuDNNLSTM(128,input_shape=(xTrain.shape[1:]),return_sequences=True))\n",
    "model.add(Dropout(0.1))\n",
    "model.add(BatchNormalization())\n",
    "\n",
    "model.add(CuDNNLSTM(128,input_shape=(xTrain.shape[1:])))\n",
    "model.add(Dropout(0.1))\n",
    "model.add(BatchNormalization())\n",
    "\n",
    "model.add(Dense(32,activation=\"relu\"))\n",
    "model.add(Dropout(0.2))\n",
    "\n",
    "\n",
    "model.add(Dense(2,activation=\"softmax\"))\n",
    "\n",
    "\n",
    "model.compile(optimizer=tf.keras.optimizers.Adam(lr=1e-3,decay=1e-6),\n",
    "              loss=\"sparse_categorical_crossentropy\",\n",
    "              metrics=[\"accuracy\"])\n",
    "\n",
    "tensorboard = TensorBoard(log_dir=f\"logs/{NAME}\")\n",
    "\n",
    "FILEPATH = \"RNN_Final-{epoch:02d}-{val_acc:.3f}\"\n",
    "chkpt = ModelCheckpoint(\"models/{}.model\".format(FILEPATH,monitor=\"val_acc\",verbose=1,save_best_only=True,mode=\"max\"))\n",
    "\n",
    "\n",
    "\n",
    "\n",
    "history = model.fit(xTrain,yTrain,batch_size = BATCH, epochs=EPOCHS,\n",
    "                    validation_data=(xTest,yTest),\n",
    "                    callbacks=[tensorboard,chkpt])\n",
    "\n",
    "\n"
   ]
  },
  {
   "cell_type": "code",
   "execution_count": null,
   "metadata": {},
   "outputs": [],
   "source": []
  }
 ],
 "metadata": {
  "kernelspec": {
   "display_name": "envML",
   "language": "python",
   "name": "envml"
  },
  "language_info": {
   "codemirror_mode": {
    "name": "ipython",
    "version": 3
   },
   "file_extension": ".py",
   "mimetype": "text/x-python",
   "name": "python",
   "nbconvert_exporter": "python",
   "pygments_lexer": "ipython3",
   "version": "3.7.3"
  }
 },
 "nbformat": 4,
 "nbformat_minor": 2
}
