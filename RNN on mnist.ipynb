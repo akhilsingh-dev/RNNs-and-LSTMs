{
 "cells": [
  {
   "cell_type": "code",
   "execution_count": 2,
   "metadata": {},
   "outputs": [],
   "source": [
    "import tensorflow as tf\n",
    "from tensorflow.keras.models import Sequential\n",
    "from tensorflow.keras.layers import Dense,Dropout,CuDNNLSTM \n",
    "\n",
    "#LSTM is for TF-CPU, CuDNNLSTM is for TF-GPU\n",
    "\n",
    "\n",
    "mnist = tf.keras.datasets.mnist\n",
    "(xTrain,yTrain), (xTest,yTest) = mnist.load_data()\n"
   ]
  },
  {
   "cell_type": "code",
   "execution_count": 4,
   "metadata": {},
   "outputs": [
    {
     "name": "stdout",
     "output_type": "stream",
     "text": [
      "(60000, 28, 28)\n",
      "(28, 28)\n"
     ]
    }
   ],
   "source": [
    "print(xTrain.shape)\n",
    "print(xTrain[0].shape)\n",
    "\n",
    "xTrain=xTrain/255.0\n",
    "xTest=xTest/255.0"
   ]
  },
  {
   "cell_type": "code",
   "execution_count": 14,
   "metadata": {},
   "outputs": [
    {
     "name": "stdout",
     "output_type": "stream",
     "text": [
      "Train on 60000 samples, validate on 10000 samples\n",
      "Epoch 1/5\n",
      "60000/60000 [==============================] - 20s 341us/sample - loss: 0.3678 - acc: 0.8883 - val_loss: 0.1522 - val_acc: 0.9563\n",
      "Epoch 2/5\n",
      "60000/60000 [==============================] - 19s 321us/sample - loss: 0.1689 - acc: 0.9540 - val_loss: 0.1115 - val_acc: 0.9664\n",
      "Epoch 3/5\n",
      "60000/60000 [==============================] - 19s 322us/sample - loss: 0.1419 - acc: 0.9626 - val_loss: 0.1080 - val_acc: 0.9728\n",
      "Epoch 4/5\n",
      "60000/60000 [==============================] - 19s 317us/sample - loss: 0.1281 - acc: 0.9655 - val_loss: 0.0982 - val_acc: 0.9723\n",
      "Epoch 5/5\n",
      "60000/60000 [==============================] - 19s 310us/sample - loss: 0.1190 - acc: 0.9680 - val_loss: 0.0958 - val_acc: 0.9725\n"
     ]
    },
    {
     "data": {
      "text/plain": [
       "<tensorflow.python.keras.callbacks.History at 0x21f51647518>"
      ]
     },
     "execution_count": 14,
     "metadata": {},
     "output_type": "execute_result"
    }
   ],
   "source": [
    "model = Sequential()\n",
    "\n",
    "model.add(CuDNNLSTM(128, input_shape=(xTrain.shape[1:]), return_sequences=True))\n",
    "model.add(Dropout(0.2))\n",
    "\n",
    "model.add(CuDNNLSTM(128))\n",
    "model.add(Dropout(0.2))\n",
    "\n",
    "model.add(Dense(32,activation='relu'))\n",
    "model.add(Dropout(0.2))\n",
    "\n",
    "model.add(Dense(10,activation='softmax'))\n",
    "\n",
    "opt = tf.keras.optimizers.Adam(lr=3e-3,decay=1e-5)\n",
    "\n",
    "model.compile(loss='sparse_categorical_crossentropy',optimizer=opt,metrics=['accuracy'])\n",
    "\n",
    "\n",
    "model.fit(xTrain,yTrain,epochs=5,validation_data=(xTest,yTest))"
   ]
  },
  {
   "cell_type": "code",
   "execution_count": null,
   "metadata": {},
   "outputs": [],
   "source": []
  }
 ],
 "metadata": {
  "kernelspec": {
   "display_name": "envML",
   "language": "python",
   "name": "envml"
  },
  "language_info": {
   "codemirror_mode": {
    "name": "ipython",
    "version": 3
   },
   "file_extension": ".py",
   "mimetype": "text/x-python",
   "name": "python",
   "nbconvert_exporter": "python",
   "pygments_lexer": "ipython3",
   "version": "3.7.3"
  }
 },
 "nbformat": 4,
 "nbformat_minor": 2
}
